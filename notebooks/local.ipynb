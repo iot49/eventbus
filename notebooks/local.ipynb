{
 "cells": [
  {
   "cell_type": "markdown",
   "metadata": {
    "vscode": {
     "languageId": "python"
    }
   },
   "source": [
    "# Local\n"
   ]
  },
  {
   "cell_type": "code",
   "execution_count": 2,
   "metadata": {},
   "outputs": [
    {
     "name": "stdout",
     "output_type": "stream",
     "text": [
      "PRINT 0.0001 {'dst': '#clients', 'entity_id': 'tree.branch.counter1.up', 'value': 1, 'timestamp': 1713289250.554556, 'model': 'State', 'src': 'tree.branch'}\n",
      "PRINT 0.0002 {'dst': '#clients', 'entity_id': 'tree.branch.counter2.up', 'value': 1, 'timestamp': 1713289250.554636, 'model': 'State', 'src': 'tree.branch'}\n",
      "PRINT 0.0002 {'dst': 'tree.branch', 'kind': 'reset', 'entity_id': 'tree.branch.counter1.up', 'param': 0, 'model': 'StateAction', 'src': 'tree.branch'}\n",
      "CurrentState {'entity_id': 'tree.branch.counter1.up', 'value': 0, 'timestamp': 1713289250.55468, 'model': 'State', 'src': 'tree.branch'}\n",
      "PRINT 0.0002 {'entity_id': 'tree.branch.counter1.up', 'value': 0, 'timestamp': 1713289250.55468, 'model': 'State', 'src': 'tree.branch'}\n",
      "CurrentState {'entity_id': 'tree.branch.counter2.up', 'value': 1, 'timestamp': 1713289250.554636, 'model': 'State', 'src': 'tree.branch'}\n",
      "PRINT 0.0002 {'entity_id': 'tree.branch.counter2.up', 'value': 1, 'timestamp': 1713289250.554636, 'model': 'State', 'src': 'tree.branch'}\n",
      "PRINT 0.0003 {'dst': '#server', 'model': 'GetState', 'src': 'tree.branch'}\n",
      "PRINT 0.1013 {'entity_id': 'tree.branch.counter1.up', 'value': 1, 'timestamp': 1713289250.655712, 'model': 'State', 'src': 'tree.branch'}\n",
      "PRINT 0.1713 {'entity_id': 'tree.branch.counter2.up', 'value': 2, 'timestamp': 1713289250.7257211, 'model': 'State', 'src': 'tree.branch'}\n",
      "PRINT 0.2025 {'entity_id': 'tree.branch.counter1.up', 'value': 2, 'timestamp': 1713289250.756924, 'model': 'State', 'src': 'tree.branch'}\n",
      "PRINT 0.3038 {'entity_id': 'tree.branch.counter1.up', 'value': 3, 'timestamp': 1713289250.8582761, 'model': 'State', 'src': 'tree.branch'}\n",
      "PRINT 0.3424 {'entity_id': 'tree.branch.counter2.up', 'value': 3, 'timestamp': 1713289250.896875, 'model': 'State', 'src': 'tree.branch'}\n",
      "PRINT 0.3513 {'dst': 'tree.branch', 'kind': 'reset', 'entity_id': 'tree.branch.counter1.up', 'param': 1, 'model': 'StateAction', 'src': 'tree.branch'}\n",
      "PRINT 0.4042 {'entity_id': 'tree.branch.counter1.up', 'value': 1, 'timestamp': 1713289250.958681, 'model': 'State', 'src': 'tree.branch'}\n",
      "PRINT 0.5054 {'entity_id': 'tree.branch.counter1.up', 'value': 2, 'timestamp': 1713289251.059873, 'model': 'State', 'src': 'tree.branch'}\n",
      "PRINT 0.5134 {'entity_id': 'tree.branch.counter2.up', 'value': 4, 'timestamp': 1713289251.067851, 'model': 'State', 'src': 'tree.branch'}\n",
      "PRINT 0.6066 {'entity_id': 'tree.branch.counter1.up', 'value': 3, 'timestamp': 1713289251.161006, 'model': 'State', 'src': 'tree.branch'}\n",
      "PRINT 0.6845 {'entity_id': 'tree.branch.counter2.up', 'value': 5, 'timestamp': 1713289251.238991, 'model': 'State', 'src': 'tree.branch'}\n",
      "CurrentState {'entity_id': 'tree.branch.counter1.up', 'value': 3, 'timestamp': 1713289251.161006, 'model': 'State', 'src': 'tree.branch'}\n",
      "PRINT 0.7014 {'entity_id': 'tree.branch.counter1.up', 'value': 3, 'timestamp': 1713289251.161006, 'model': 'State', 'src': 'tree.branch'}\n",
      "CurrentState {'entity_id': 'tree.branch.counter2.up', 'value': 5, 'timestamp': 1713289251.238991, 'model': 'State', 'src': 'tree.branch'}\n",
      "PRINT 0.7014 {'entity_id': 'tree.branch.counter2.up', 'value': 5, 'timestamp': 1713289251.238991, 'model': 'State', 'src': 'tree.branch'}\n",
      "PRINT 0.7014 {'dst': '#server', 'model': 'GetState', 'src': 'tree.branch'}\n",
      "PRINT 0.7015 {'dst': 'tree.branch', 'kind': 'reset', 'entity_id': 'tree.branch.counter1.up', 'param': 2, 'model': 'StateAction', 'src': 'tree.branch'}\n",
      "PRINT 0.7074 {'entity_id': 'tree.branch.counter1.up', 'value': 1, 'timestamp': 1713289251.261826, 'model': 'State', 'src': 'tree.branch'}\n",
      "PRINT 0.8086 {'entity_id': 'tree.branch.counter1.up', 'value': 2, 'timestamp': 1713289251.3630238, 'model': 'State', 'src': 'tree.branch'}\n",
      "PRINT 0.8555 {'entity_id': 'tree.branch.counter2.up', 'value': 6, 'timestamp': 1713289251.409975, 'model': 'State', 'src': 'tree.branch'}\n",
      "PRINT 0.9101 {'entity_id': 'tree.branch.counter1.up', 'value': 3, 'timestamp': 1713289251.4644742, 'model': 'State', 'src': 'tree.branch'}\n",
      "PRINT 1.0267 {'entity_id': 'tree.branch.counter2.up', 'value': 7, 'timestamp': 1713289251.581124, 'model': 'State', 'src': 'tree.branch'}\n",
      "PRINT 1.1980 {'entity_id': 'tree.branch.counter2.up', 'value': 8, 'timestamp': 1713289251.752361, 'model': 'State', 'src': 'tree.branch'}\n",
      "PRINT 1.3689 {'entity_id': 'tree.branch.counter2.up', 'value': 9, 'timestamp': 1713289251.923349, 'model': 'State', 'src': 'tree.branch'}\n",
      "CurrentState {'entity_id': 'tree.branch.counter1.up', 'value': 3, 'timestamp': 1713289251.4644742, 'model': 'State', 'src': 'tree.branch'}\n",
      "PRINT 1.4026 {'entity_id': 'tree.branch.counter1.up', 'value': 3, 'timestamp': 1713289251.4644742, 'model': 'State', 'src': 'tree.branch'}\n",
      "CurrentState {'entity_id': 'tree.branch.counter2.up', 'value': 9, 'timestamp': 1713289251.923349, 'model': 'State', 'src': 'tree.branch'}\n",
      "PRINT 1.4026 {'entity_id': 'tree.branch.counter2.up', 'value': 9, 'timestamp': 1713289251.923349, 'model': 'State', 'src': 'tree.branch'}\n",
      "PRINT 1.4026 {'dst': '#server', 'model': 'GetState', 'src': 'tree.branch'}\n",
      "PRINT 1.5402 {'entity_id': 'tree.branch.counter2.up', 'value': 10, 'timestamp': 1713289252.094599, 'model': 'State', 'src': 'tree.branch'}\n"
     ]
    }
   ],
   "source": [
    "from examples import counter\n",
    "\n",
    "await counter.main()"
   ]
  },
  {
   "cell_type": "code",
   "execution_count": null,
   "metadata": {},
   "outputs": [],
   "source": []
  }
 ],
 "metadata": {
  "kernelspec": {
   "display_name": ".venv",
   "language": "python",
   "name": "python3"
  },
  "language_info": {
   "codemirror_mode": {
    "name": "ipython",
    "version": 3
   },
   "file_extension": ".py",
   "mimetype": "text/x-python",
   "name": "python",
   "nbconvert_exporter": "python",
   "pygments_lexer": "ipython3",
   "version": "3.11.8"
  }
 },
 "nbformat": 4,
 "nbformat_minor": 2
}
