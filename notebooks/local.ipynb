{
 "cells": [
  {
   "cell_type": "markdown",
   "metadata": {
    "vscode": {
     "languageId": "python"
    }
   },
   "source": [
    "# Local\n"
   ]
  },
  {
   "cell_type": "code",
   "execution_count": 1,
   "metadata": {},
   "outputs": [
    {
     "name": "stdout",
     "output_type": "stream",
     "text": [
      "PRINT 0.0000 {'et': 10, 'eid': 'tid.bid.counter1.up', 'value': 1, 'timestamp': 1713396726.076426, 'src': 'tid.bid', 'dst': '#clients'}\n",
      "PRINT 0.0001 {'et': 10, 'eid': 'tid.bid.counter2.up', 'value': 1, 'timestamp': 1713396726.076513, 'src': 'tid.bid', 'dst': '#clients'}\n",
      "PRINT 0.1011 {'et': 10, 'eid': 'tid.bid.counter1.up', 'value': 2, 'timestamp': 1713396726.17756, 'src': 'tid.bid', 'dst': '#clients'}\n",
      "PRINT 0.1712 {'et': 10, 'eid': 'tid.bid.counter2.up', 'value': 2, 'timestamp': 1713396726.2475798, 'src': 'tid.bid', 'dst': '#clients'}\n",
      "PRINT 0.2022 {'et': 10, 'eid': 'tid.bid.counter1.up', 'value': 3, 'timestamp': 1713396726.278641, 'src': 'tid.bid', 'dst': '#clients'}\n",
      "PRINT 0.3034 {'et': 10, 'eid': 'tid.bid.counter1.up', 'value': 4, 'timestamp': 1713396726.3797781, 'src': 'tid.bid', 'dst': '#clients'}\n",
      "PRINT 0.3422 {'et': 10, 'eid': 'tid.bid.counter2.up', 'value': 3, 'timestamp': 1713396726.418674, 'src': 'tid.bid', 'dst': '#clients'}\n",
      "PRINT 0.3511 {'et': 11, 'device_id': 't.i.d', 'action': 'reset', 'param': 0, 'src': 'tid.bid', 'dst': 'tid.bid'}\n",
      "PRINT 0.4036 {'et': 10, 'eid': 'tid.bid.counter1.up', 'value': 5, 'timestamp': 1713396726.480011, 'src': 'tid.bid', 'dst': '#clients'}\n",
      "PRINT 0.5047 {'et': 10, 'eid': 'tid.bid.counter1.up', 'value': 6, 'timestamp': 1713396726.581154, 'src': 'tid.bid', 'dst': '#clients'}\n",
      "PRINT 0.5132 {'et': 10, 'eid': 'tid.bid.counter2.up', 'value': 4, 'timestamp': 1713396726.5896719, 'src': 'tid.bid', 'dst': '#clients'}\n",
      "PRINT 0.6058 {'et': 10, 'eid': 'tid.bid.counter1.up', 'value': 7, 'timestamp': 1713396726.682225, 'src': 'tid.bid', 'dst': '#clients'}\n",
      "PRINT 0.6843 {'et': 10, 'eid': 'tid.bid.counter2.up', 'value': 5, 'timestamp': 1713396726.760755, 'src': 'tid.bid', 'dst': '#clients'}\n",
      "PRINT 0.7011 {'et': 10, 'eid': 'tid.bid.counter1.up', 'value': 7, 'timestamp': 1713396726.682225, 'src': 'tid.bid', 'dst': 'tid.bid'}\n",
      "PRINT 0.7012 {'et': 10, 'eid': 'tid.bid.counter2.up', 'value': 5, 'timestamp': 1713396726.760755, 'src': 'tid.bid', 'dst': 'tid.bid'}\n",
      "PRINT 0.7012 {'et': 20, 'dst': '#server', 'src': 'tid.bid'}\n",
      "PRINT 0.7012 {'et': 11, 'device_id': 't.i.d', 'action': 'reset', 'param': 1, 'src': 'tid.bid', 'dst': 'tid.bid'}\n",
      "PRINT 0.7065 {'et': 10, 'eid': 'tid.bid.counter1.up', 'value': 8, 'timestamp': 1713396726.782918, 'src': 'tid.bid', 'dst': '#clients'}\n",
      "PRINT 0.8072 {'et': 10, 'eid': 'tid.bid.counter1.up', 'value': 9, 'timestamp': 1713396726.883609, 'src': 'tid.bid', 'dst': '#clients'}\n",
      "PRINT 0.8554 {'et': 10, 'eid': 'tid.bid.counter2.up', 'value': 6, 'timestamp': 1713396726.931843, 'src': 'tid.bid', 'dst': '#clients'}\n",
      "PRINT 0.9083 {'et': 10, 'eid': 'tid.bid.counter1.up', 'value': 10, 'timestamp': 1713396726.984731, 'src': 'tid.bid', 'dst': '#clients'}\n",
      "PRINT 1.0265 {'et': 10, 'eid': 'tid.bid.counter2.up', 'value': 7, 'timestamp': 1713396727.102925, 'src': 'tid.bid', 'dst': '#clients'}\n",
      "PRINT 1.0523 {'et': 11, 'device_id': 't.i.d', 'action': 'reset', 'param': 2, 'src': 'tid.bid', 'dst': 'tid.bid'}\n",
      "PRINT 1.1977 {'et': 10, 'eid': 'tid.bid.counter2.up', 'value': 8, 'timestamp': 1713396727.2740748, 'src': 'tid.bid', 'dst': '#clients'}\n",
      "PRINT 1.3687 {'et': 10, 'eid': 'tid.bid.counter2.up', 'value': 9, 'timestamp': 1713396727.445162, 'src': 'tid.bid', 'dst': '#clients'}\n",
      "PRINT 1.4013 {'et': 10, 'eid': 'tid.bid.counter1.up', 'value': 10, 'timestamp': 1713396726.984731, 'src': 'tid.bid', 'dst': 'tid.bid'}\n",
      "PRINT 1.4013 {'et': 10, 'eid': 'tid.bid.counter2.up', 'value': 9, 'timestamp': 1713396727.445162, 'src': 'tid.bid', 'dst': 'tid.bid'}\n",
      "PRINT 1.4013 {'et': 20, 'dst': '#server', 'src': 'tid.bid'}\n",
      "PRINT 1.5399 {'et': 10, 'eid': 'tid.bid.counter2.up', 'value': 10, 'timestamp': 1713396727.616311, 'src': 'tid.bid', 'dst': '#clients'}\n",
      "PRINT 2.1023 {'et': 10, 'eid': 'tid.bid.counter1.up', 'value': 10, 'timestamp': 1713396726.984731, 'src': 'tid.bid', 'dst': 'tid.bid'}\n",
      "PRINT 2.1024 {'et': 10, 'eid': 'tid.bid.counter2.up', 'value': 10, 'timestamp': 1713396727.616311, 'src': 'tid.bid', 'dst': 'tid.bid'}\n",
      "PRINT 2.1024 {'et': 20, 'dst': '#server', 'src': 'tid.bid'}\n"
     ]
    }
   ],
   "source": [
    "from examples import counter\n",
    "\n",
    "await counter.main()"
   ]
  },
  {
   "cell_type": "code",
   "execution_count": 2,
   "metadata": {},
   "outputs": [
    {
     "name": "stdout",
     "output_type": "stream",
     "text": [
      "PRINT 54.1908 {'et': 10, 'eid': 'tid.bid.counter1.up', 'value': 7, 'timestamp': 1713397177.3651469, 'src': 'tid.bid', 'dst': '#clients'}\n",
      "PRINT 54.1908 {'et': 10, 'eid': 'tid.bid.counter2.up', 'value': 3, 'timestamp': 1713397177.365193, 'src': 'tid.bid', 'dst': '#clients'}\n",
      "PRINT 54.1908 {'et': 11, 'device_id': 't.i.d', 'action': 'reset', 'param': 0, 'src': 'tid.bid', 'dst': 'tid.bid'}\n",
      "PRINT 55.1919 {'et': 10, 'eid': 'tid.bid.counter1.up', 'value': 8, 'timestamp': 1713397178.366251, 'src': 'tid.bid', 'dst': '#clients'}\n",
      "PRINT 56.1930 {'et': 10, 'eid': 'tid.bid.counter1.up', 'value': 9, 'timestamp': 1713397179.367401, 'src': 'tid.bid', 'dst': '#clients'}\n",
      "PRINT 57.1941 {'et': 10, 'eid': 'tid.bid.counter1.up', 'value': 10, 'timestamp': 1713397180.368543, 'src': 'tid.bid', 'dst': '#clients'}\n",
      "PRINT 58.1953 {'et': 10, 'eid': 'tid.bid.counter1.up', 'value': 11, 'timestamp': 1713397181.369694, 'src': 'tid.bid', 'dst': '#clients'}\n",
      "PRINT 59.1919 {'et': 10, 'eid': 'tid.bid.counter2.up', 'value': 4, 'timestamp': 1713397182.366254, 'src': 'tid.bid', 'dst': '#clients'}\n",
      "PRINT 59.1958 {'et': 10, 'eid': 'tid.bid.counter1.up', 'value': 12, 'timestamp': 1713397182.370232, 'src': 'tid.bid', 'dst': '#clients'}\n",
      "PRINT 60.1967 {'et': 10, 'eid': 'tid.bid.counter1.up', 'value': 13, 'timestamp': 1713397183.371135, 'src': 'tid.bid', 'dst': '#clients'}\n",
      "PRINT 61.1979 {'et': 10, 'eid': 'tid.bid.counter1.up', 'value': 14, 'timestamp': 1713397184.372281, 'src': 'tid.bid', 'dst': '#clients'}\n",
      "PRINT 62.1985 {'et': 10, 'eid': 'tid.bid.counter1.up', 'value': 15, 'timestamp': 1713397185.372917, 'src': 'tid.bid', 'dst': '#clients'}\n",
      "PRINT 63.1997 {'et': 10, 'eid': 'tid.bid.counter1.up', 'value': 16, 'timestamp': 1713397186.374058, 'src': 'tid.bid', 'dst': '#clients'}\n",
      "PRINT 64.1930 {'et': 10, 'eid': 'tid.bid.counter2.up', 'value': 5, 'timestamp': 1713397187.367393, 'src': 'tid.bid', 'dst': '#clients'}\n",
      "PRINT 64.2006 {'et': 10, 'eid': 'tid.bid.counter1.up', 'value': 17, 'timestamp': 1713397187.3750348, 'src': 'tid.bid', 'dst': '#clients'}\n",
      "PRINT 65.2018 {'et': 10, 'eid': 'tid.bid.counter1.up', 'value': 18, 'timestamp': 1713397188.3761501, 'src': 'tid.bid', 'dst': '#clients'}\n",
      "PRINT 66.2029 {'et': 10, 'eid': 'tid.bid.counter1.up', 'value': 19, 'timestamp': 1713397189.377304, 'src': 'tid.bid', 'dst': '#clients'}\n",
      "PRINT 67.2041 {'et': 10, 'eid': 'tid.bid.counter1.up', 'value': 20, 'timestamp': 1713397190.378463, 'src': 'tid.bid', 'dst': '#clients'}\n",
      "PRINT 68.2052 {'et': 10, 'eid': 'tid.bid.counter1.up', 'value': 21, 'timestamp': 1713397191.379609, 'src': 'tid.bid', 'dst': '#clients'}\n"
     ]
    },
    {
     "ename": "CancelledError",
     "evalue": "",
     "output_type": "error",
     "traceback": [
      "\u001b[0;31m---------------------------------------------------------------------------\u001b[0m",
      "\u001b[0;31mCancelledError\u001b[0m                            Traceback (most recent call last)",
      "Cell \u001b[0;32mIn[2], line 3\u001b[0m\n\u001b[1;32m      1\u001b[0m \u001b[38;5;28;01mfrom\u001b[39;00m \u001b[38;5;21;01mexamples\u001b[39;00m \u001b[38;5;28;01mimport\u001b[39;00m fast_server\n\u001b[0;32m----> 3\u001b[0m \u001b[38;5;28;01mawait\u001b[39;00m fast_server\u001b[38;5;241m.\u001b[39mmain()\n",
      "File \u001b[0;32m~/Dropbox/iot/eventbus/src/examples/fast_server.py:59\u001b[0m, in \u001b[0;36mmain\u001b[0;34m()\u001b[0m\n\u001b[1;32m     58\u001b[0m \u001b[38;5;28;01masync\u001b[39;00m \u001b[38;5;28;01mdef\u001b[39;00m \u001b[38;5;21mmain\u001b[39m():\n\u001b[0;32m---> 59\u001b[0m     \u001b[38;5;28;01mawait\u001b[39;00m asyncio\u001b[38;5;241m.\u001b[39mgather(counter1\u001b[38;5;241m.\u001b[39m_count_task(), counter2\u001b[38;5;241m.\u001b[39m_count_task(), reset_task())\n",
      "File \u001b[0;32m~/Dropbox/iot/eventbus/src/examples/counter.py:26\u001b[0m, in \u001b[0;36mCounter._count_task\u001b[0;34m(self)\u001b[0m\n\u001b[1;32m     24\u001b[0m \u001b[38;5;66;03m# post the event to the bus\u001b[39;00m\n\u001b[1;32m     25\u001b[0m \u001b[38;5;28;01mawait\u001b[39;00m \u001b[38;5;28mself\u001b[39m\u001b[38;5;241m.\u001b[39mbridge\u001b[38;5;241m.\u001b[39mpost(state)\n\u001b[0;32m---> 26\u001b[0m \u001b[38;5;28;01mawait\u001b[39;00m asyncio\u001b[38;5;241m.\u001b[39msleep(\u001b[38;5;28mself\u001b[39m\u001b[38;5;241m.\u001b[39minterval)\n",
      "File \u001b[0;32m~/.rye/py/cpython@3.11.8/install/lib/python3.11/asyncio/tasks.py:649\u001b[0m, in \u001b[0;36msleep\u001b[0;34m(delay, result)\u001b[0m\n\u001b[1;32m    645\u001b[0m h \u001b[38;5;241m=\u001b[39m loop\u001b[38;5;241m.\u001b[39mcall_later(delay,\n\u001b[1;32m    646\u001b[0m                     futures\u001b[38;5;241m.\u001b[39m_set_result_unless_cancelled,\n\u001b[1;32m    647\u001b[0m                     future, result)\n\u001b[1;32m    648\u001b[0m \u001b[38;5;28;01mtry\u001b[39;00m:\n\u001b[0;32m--> 649\u001b[0m     \u001b[38;5;28;01mreturn\u001b[39;00m \u001b[38;5;28;01mawait\u001b[39;00m future\n\u001b[1;32m    650\u001b[0m \u001b[38;5;28;01mfinally\u001b[39;00m:\n\u001b[1;32m    651\u001b[0m     h\u001b[38;5;241m.\u001b[39mcancel()\n",
      "\u001b[0;31mCancelledError\u001b[0m: "
     ]
    }
   ],
   "source": [
    "from examples import fast_server\n",
    "\n",
    "await fast_server.main()"
   ]
  }
 ],
 "metadata": {
  "kernelspec": {
   "display_name": ".venv",
   "language": "python",
   "name": "python3"
  },
  "language_info": {
   "codemirror_mode": {
    "name": "ipython",
    "version": 3
   },
   "file_extension": ".py",
   "mimetype": "text/x-python",
   "name": "python",
   "nbconvert_exporter": "python",
   "pygments_lexer": "ipython3",
   "version": "3.11.8"
  }
 },
 "nbformat": 4,
 "nbformat_minor": 2
}
