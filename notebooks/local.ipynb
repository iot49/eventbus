{
 "cells": [
  {
   "cell_type": "markdown",
   "metadata": {
    "vscode": {
     "languageId": "python"
    }
   },
   "source": [
    "# Local\n"
   ]
  },
  {
   "cell_type": "code",
   "execution_count": 1,
   "metadata": {},
   "outputs": [
    {
     "name": "stdout",
     "output_type": "stream",
     "text": [
      "PRINT 0.0000 {'et': 10, 'entity_id': 'tree.branch.counter1.up', 'value': 1, 'timestamp': 1713304542.860897, 'dst': '#clients'}\n",
      "PRINT 0.0002 {'et': 10, 'entity_id': 'tree.branch.counter2.up', 'value': 1, 'timestamp': 1713304542.8610518, 'dst': '#clients'}\n",
      "PRINT 0.1010 {'et': 10, 'entity_id': 'tree.branch.counter1.up', 'value': 2, 'timestamp': 1713304542.9618628, 'dst': '#clients'}\n",
      "PRINT 0.1712 {'et': 10, 'entity_id': 'tree.branch.counter2.up', 'value': 2, 'timestamp': 1713304543.032126, 'dst': '#clients'}\n",
      "PRINT 0.2021 {'et': 10, 'entity_id': 'tree.branch.counter1.up', 'value': 3, 'timestamp': 1713304543.062954, 'dst': '#clients'}\n",
      "PRINT 0.3032 {'et': 10, 'entity_id': 'tree.branch.counter1.up', 'value': 4, 'timestamp': 1713304543.164108, 'dst': '#clients'}\n",
      "PRINT 0.3423 {'et': 10, 'entity_id': 'tree.branch.counter2.up', 'value': 3, 'timestamp': 1713304543.2032242, 'dst': '#clients'}\n",
      "PRINT 0.3512 {'et': 11, 'device_id': 'tree.branch.counter1', 'action': 'reset', 'param': 0, 'dst': 'tree.branch'}\n",
      "PRINT 0.4044 {'et': 10, 'entity_id': 'tree.branch.counter1.up', 'value': 1, 'timestamp': 1713304543.2653198, 'dst': '#clients'}\n",
      "PRINT 0.5059 {'et': 10, 'entity_id': 'tree.branch.counter1.up', 'value': 2, 'timestamp': 1713304543.36677, 'dst': '#clients'}\n",
      "PRINT 0.5132 {'et': 10, 'entity_id': 'tree.branch.counter2.up', 'value': 4, 'timestamp': 1713304543.3741188, 'dst': '#clients'}\n",
      "PRINT 0.6071 {'et': 10, 'entity_id': 'tree.branch.counter1.up', 'value': 3, 'timestamp': 1713304543.4680011, 'dst': '#clients'}\n",
      "PRINT 0.6845 {'et': 10, 'entity_id': 'tree.branch.counter2.up', 'value': 5, 'timestamp': 1713304543.545367, 'dst': '#clients'}\n",
      "PRINT 0.7004 {'et': 10, 'entity_id': 'tree.branch.counter1.up', 'value': 3, 'timestamp': 1713304543.4680011, 'dst': 'tree.branch0'}\n",
      "PRINT 0.7005 {'et': 10, 'entity_id': 'tree.branch.counter2.up', 'value': 5, 'timestamp': 1713304543.545367, 'dst': 'tree.branch0'}\n",
      "PRINT 0.7005 {'et': 20, 'dst': '#server', 'src': 'tree.branch0'}\n",
      "PRINT 0.7014 {'et': 11, 'device_id': 'tree.branch.counter1', 'action': 'reset', 'param': 1, 'dst': 'tree.branch'}\n",
      "PRINT 0.7078 {'et': 10, 'entity_id': 'tree.branch.counter1.up', 'value': 1, 'timestamp': 1713304543.5687182, 'dst': '#clients'}\n",
      "PRINT 0.8089 {'et': 10, 'entity_id': 'tree.branch.counter1.up', 'value': 2, 'timestamp': 1713304543.669821, 'dst': '#clients'}\n",
      "PRINT 0.8554 {'et': 10, 'entity_id': 'tree.branch.counter2.up', 'value': 6, 'timestamp': 1713304543.716248, 'dst': '#clients'}\n",
      "PRINT 0.9102 {'et': 10, 'entity_id': 'tree.branch.counter1.up', 'value': 3, 'timestamp': 1713304543.771046, 'dst': '#clients'}\n",
      "PRINT 1.0259 {'et': 10, 'entity_id': 'tree.branch.counter2.up', 'value': 7, 'timestamp': 1713304543.8867579, 'dst': '#clients'}\n",
      "PRINT 1.0526 {'et': 11, 'device_id': 'tree.branch.counter1', 'action': 'reset', 'param': 2, 'dst': 'tree.branch'}\n",
      "PRINT 1.1972 {'et': 10, 'entity_id': 'tree.branch.counter2.up', 'value': 8, 'timestamp': 1713304544.058125, 'dst': '#clients'}\n",
      "PRINT 1.3685 {'et': 10, 'entity_id': 'tree.branch.counter2.up', 'value': 9, 'timestamp': 1713304544.2293591, 'dst': '#clients'}\n",
      "PRINT 1.4015 {'et': 10, 'entity_id': 'tree.branch.counter1.up', 'value': 3, 'timestamp': 1713304543.771046, 'dst': 'tree.branch1'}\n",
      "PRINT 1.4015 {'et': 10, 'entity_id': 'tree.branch.counter2.up', 'value': 9, 'timestamp': 1713304544.2293591, 'dst': 'tree.branch1'}\n",
      "PRINT 1.4016 {'et': 20, 'dst': '#server', 'src': 'tree.branch1'}\n",
      "PRINT 1.5399 {'et': 10, 'entity_id': 'tree.branch.counter2.up', 'value': 10, 'timestamp': 1713304544.400821, 'dst': '#clients'}\n",
      "PRINT 2.1028 {'et': 10, 'entity_id': 'tree.branch.counter1.up', 'value': 3, 'timestamp': 1713304543.771046, 'dst': 'tree.branch2'}\n",
      "PRINT 2.1032 {'et': 10, 'entity_id': 'tree.branch.counter2.up', 'value': 10, 'timestamp': 1713304544.400821, 'dst': 'tree.branch2'}\n",
      "PRINT 2.1032 {'et': 20, 'dst': '#server', 'src': 'tree.branch2'}\n"
     ]
    }
   ],
   "source": [
    "from examples import counter\n",
    "\n",
    "await counter.main()"
   ]
  },
  {
   "cell_type": "code",
   "execution_count": null,
   "metadata": {},
   "outputs": [],
   "source": [
    "from examples import fast_server\n",
    "\n",
    "await fast_server.main()"
   ]
  }
 ],
 "metadata": {
  "kernelspec": {
   "display_name": ".venv",
   "language": "python",
   "name": "python3"
  },
  "language_info": {
   "codemirror_mode": {
    "name": "ipython",
    "version": 3
   },
   "file_extension": ".py",
   "mimetype": "text/x-python",
   "name": "python",
   "nbconvert_exporter": "python",
   "pygments_lexer": "ipython3",
   "version": "3.11.8"
  }
 },
 "nbformat": 4,
 "nbformat_minor": 2
}
