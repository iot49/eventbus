{
 "cells": [
  {
   "cell_type": "markdown",
   "metadata": {},
   "source": [
    "# Events on MicroPython\n"
   ]
  },
  {
   "cell_type": "code",
   "execution_count": null,
   "metadata": {},
   "outputs": [],
   "source": [
    "%mip install abc\n",
    "%mip install time\n",
    "%mip install datetime\n",
    "%mip install types\n",
    "%mip install aiohttp"
   ]
  },
  {
   "cell_type": "code",
   "execution_count": 2,
   "metadata": {},
   "outputs": [
    {
     "name": "stdout",
     "output_type": "stream",
     "text": [
      "\u001b[38;5;2mLocal and remote directories match\u001b[0m\n",
      "\n",
      "\n"
     ]
    }
   ],
   "source": [
    "%rsync\n",
    "%softreset"
   ]
  },
  {
   "cell_type": "code",
   "execution_count": 4,
   "metadata": {},
   "outputs": [
    {
     "name": "stdout",
     "output_type": "stream",
     "text": [
      "PRINT 0.0000 {'dst': '#clients', 'timestamp': 1713396836, 'src': 'tid.bid', 'eid': 'tid.bid.counter1.up', 'et': 10, 'value': 1}\n",
      "PRINT 0.0078 {'dst': '#clients', 'timestamp': 1713396836, 'src': 'tid.bid', 'eid': 'tid.bid.counter2.up', 'et': 10, 'value': 1}\n",
      "PRINT 0.1128 {'dst': '#clients', 'timestamp': 1713396836, 'src': 'tid.bid', 'eid': 'tid.bid.counter1.up', 'et': 10, 'value': 2}\n",
      "PRINT 0.1926 {'dst': '#clients', 'timestamp': 1713396836, 'src': 'tid.bid', 'eid': 'tid.bid.counter2.up', 'et': 10, 'value': 2}\n",
      "PRINT 0.2225 {'dst': '#clients', 'timestamp': 1713396836, 'src': 'tid.bid', 'eid': 'tid.bid.counter1.up', 'et': 10, 'value': 3}\n",
      "PRINT 0.3328 {'dst': '#clients', 'timestamp': 1713396836, 'src': 'tid.bid', 'eid': 'tid.bid.counter1.up', 'et': 10, 'value': 4}\n",
      "PRINT 0.3734 {'param': 0, 'device_id': 't.i.d', 'src': 'tid.bid', 'dst': 'tid.bid', 'et': 11, 'action': 'reset'}\n",
      "PRINT 0.3818 {'dst': '#clients', 'timestamp': 1713396836, 'src': 'tid.bid', 'eid': 'tid.bid.counter2.up', 'et': 10, 'value': 3}\n",
      "PRINT 0.4424 {'dst': '#clients', 'timestamp': 1713396836, 'src': 'tid.bid', 'eid': 'tid.bid.counter1.up', 'et': 10, 'value': 5}\n",
      "PRINT 0.5532 {'dst': '#clients', 'timestamp': 1713396836, 'src': 'tid.bid', 'eid': 'tid.bid.counter1.up', 'et': 10, 'value': 6}\n",
      "PRINT 0.5609 {'dst': '#clients', 'timestamp': 1713396836, 'src': 'tid.bid', 'eid': 'tid.bid.counter2.up', 'et': 10, 'value': 4}\n",
      "PRINT 0.6625 {'dst': '#clients', 'timestamp': 1713396836, 'src': 'tid.bid', 'eid': 'tid.bid.counter1.up', 'et': 10, 'value': 7}\n",
      "PRINT 0.7226 {'dst': 'tid.bid', 'timestamp': 1713396836, 'src': 'tid.bid', 'eid': 'tid.bid.counter2.up', 'et': 10, 'value': 4}\n",
      "PRINT 0.7295 {'dst': 'tid.bid', 'timestamp': 1713396836, 'src': 'tid.bid', 'eid': 'tid.bid.counter1.up', 'et': 10, 'value': 7}\n",
      "PRINT 0.7359 {'src': 'tid.bid', 'et': 20, 'dst': '#server'}\n",
      "PRINT 0.7421 {'param': 1, 'device_id': 't.i.d', 'src': 'tid.bid', 'dst': 'tid.bid', 'et': 11, 'action': 'reset'}\n",
      "PRINT 0.7504 {'dst': '#clients', 'timestamp': 1713396836, 'src': 'tid.bid', 'eid': 'tid.bid.counter2.up', 'et': 10, 'value': 5}\n",
      "PRINT 0.7725 {'dst': '#clients', 'timestamp': 1713396836, 'src': 'tid.bid', 'eid': 'tid.bid.counter1.up', 'et': 10, 'value': 8}\n",
      "PRINT 0.8828 {'dst': '#clients', 'timestamp': 1713396837, 'src': 'tid.bid', 'eid': 'tid.bid.counter1.up', 'et': 10, 'value': 9}\n",
      "PRINT 0.9325 {'dst': '#clients', 'timestamp': 1713396837, 'src': 'tid.bid', 'eid': 'tid.bid.counter2.up', 'et': 10, 'value': 6}\n",
      "PRINT 0.9925 {'dst': '#clients', 'timestamp': 1713396837, 'src': 'tid.bid', 'eid': 'tid.bid.counter1.up', 'et': 10, 'value': 10}\n",
      "PRINT 1.1041 {'param': 2, 'device_id': 't.i.d', 'src': 'tid.bid', 'dst': 'tid.bid', 'et': 11, 'action': 'reset'}\n",
      "PRINT 1.1121 {'dst': '#clients', 'timestamp': 1713396837, 'src': 'tid.bid', 'eid': 'tid.bid.counter2.up', 'et': 10, 'value': 7}\n",
      "PRINT 1.2929 {'dst': '#clients', 'timestamp': 1713396837, 'src': 'tid.bid', 'eid': 'tid.bid.counter2.up', 'et': 10, 'value': 8}\n",
      "PRINT 1.4425 {'dst': 'tid.bid', 'timestamp': 1713396837, 'src': 'tid.bid', 'eid': 'tid.bid.counter2.up', 'et': 10, 'value': 8}\n",
      "PRINT 1.4497 {'dst': 'tid.bid', 'timestamp': 1713396837, 'src': 'tid.bid', 'eid': 'tid.bid.counter1.up', 'et': 10, 'value': 10}\n",
      "PRINT 1.4562 {'src': 'tid.bid', 'et': 20, 'dst': '#server'}\n",
      "PRINT 1.4725 {'dst': '#clients', 'timestamp': 1713396837, 'src': 'tid.bid', 'eid': 'tid.bid.counter2.up', 'et': 10, 'value': 9}\n",
      "PRINT 1.6528 {'dst': '#clients', 'timestamp': 1713396837, 'src': 'tid.bid', 'eid': 'tid.bid.counter2.up', 'et': 10, 'value': 10}\n",
      "PRINT 2.1630 {'dst': 'tid.bid', 'timestamp': 1713396837, 'src': 'tid.bid', 'eid': 'tid.bid.counter2.up', 'et': 10, 'value': 10}\n",
      "PRINT 2.1700 {'dst': 'tid.bid', 'timestamp': 1713396837, 'src': 'tid.bid', 'eid': 'tid.bid.counter1.up', 'et': 10, 'value': 10}\n",
      "PRINT 2.1764 {'src': 'tid.bid', 'et': 20, 'dst': '#server'}\n",
      "\n"
     ]
    }
   ],
   "source": [
    "# local eventbus example\n",
    "\n",
    "import asyncio\n",
    "from examples import counter\n",
    "\n",
    "asyncio.run(counter.main())"
   ]
  },
  {
   "cell_type": "code",
   "execution_count": 3,
   "metadata": {},
   "outputs": [
    {
     "name": "stdout",
     "output_type": "stream",
     "text": [
      "network config: ('192.168.8.167', '255.255.255.0', '192.168.8.1', '192.168.8.1')\n"
     ]
    },
    {
     "name": "stdout",
     "output_type": "stream",
     "text": [
      "Connected {'et': 30, 'param': {'timeout_interval': 3}, 'dst': '@0', 'src': 'tid.bid'}\n",
      "src addr @0\n",
      "Ping\n",
      "GOT {\"et\":10,\"eid\":\"tid.bid.counter1.up\",\"value\":275,\"timestamp\":1713397271.67026,\"src\":\"tid.bid\",\"dst\":\"tid.bid\"}\n",
      "GOT {\"et\":10,\"eid\":\"tid.bid.counter2.up\",\"value\":56,\"timestamp\":1713397272.445628,\"src\":\"tid.bid\",\"dst\":\"tid.bid\"}\n",
      "GOT {\"src\":\"tid.bid\",\"et\":20,\"dst\":\"#server\"}\n",
      "GOT {\"et\":1,\"src\":\"tid.bid\"}\n",
      "GOT {\"et\":10,\"eid\":\"tid.bid.counter1.up\",\"value\":276,\"timestamp\":1713397272.671314,\"src\":\"tid.bid\",\"dst\":\"#clients\"}\n",
      "GOT {\"et\":10,\"eid\":\"tid.bid.counter1.up\",\"value\":277,\"timestamp\":1713397273.67245,\"src\":\"tid.bid\",\"dst\":\"#clients\"}\n",
      "GOT {\"et\":10,\"eid\":\"tid.bid.counter1.up\",\"value\":278,\"timestamp\":1713397274.673642,\"src\":\"tid.bid\",\"dst\":\"#clients\"}\n",
      "Ping\n",
      "GOT {\"et\":1,\"src\":\"tid.bid\"}\n",
      "GOT {\"et\":10,\"eid\":\"tid.bid.counter1.up\",\"value\":279,\"timestamp\":1713397275.674772,\"src\":\"tid.bid\",\"dst\":\"#clients\"}\n",
      "GOT {\"et\":10,\"eid\":\"tid.bid.counter1.up\",\"value\":280,\"timestamp\":1713397276.675898,\"src\":\"tid.bid\",\"dst\":\"#clients\"}\n",
      "GOT {\"param\":777,\"device_id\":\"tid.bid.counter1\",\"src\":\"@0\",\"dst\":\"tid.bid\",\"et\":11,\"action\":\"reset\"}\n",
      "GOT {\"et\":10,\"eid\":\"tid.bid.counter2.up\",\"value\":57,\"timestamp\":1713397277.4466822,\"src\":\"tid.bid\",\"dst\":\"#clients\"}\n",
      "GOT {\"et\":10,\"eid\":\"tid.bid.counter1.up\",\"value\":1,\"timestamp\":1713397277.677096,\"src\":\"tid.bid\",\"dst\":\"#clients\"}\n",
      "Ping\n",
      "GOT {\"et\":1,\"src\":\"tid.bid\"}\n",
      "GOT {\"et\":10,\"eid\":\"tid.bid.counter1.up\",\"value\":2,\"timestamp\":1713397278.677928,\"src\":\"tid.bid\",\"dst\":\"#clients\"}\n",
      "GOT {\"et\":10,\"eid\":\"tid.bid.counter1.up\",\"value\":3,\"timestamp\":1713397279.6782012,\"src\":\"tid.bid\",\"dst\":\"#clients\"}\n",
      "GOT {\"et\":10,\"eid\":\"tid.bid.counter1.up\",\"value\":4,\"timestamp\":1713397280.6793878,\"src\":\"tid.bid\",\"dst\":\"#clients\"}\n",
      "Ping\n",
      "GOT {\"et\":10,\"eid\":\"tid.bid.counter1.up\",\"value\":5,\"timestamp\":1713397281.6805818,\"src\":\"tid.bid\",\"dst\":\"#clients\"}\n",
      "GOT {\"et\":1,\"src\":\"tid.bid\"}\n",
      "GOT {\"et\":10,\"eid\":\"tid.bid.counter2.up\",\"value\":58,\"timestamp\":1713397282.447855,\"src\":\"tid.bid\",\"dst\":\"#clients\"}\n",
      "GOT {\"param\":777,\"device_id\":\"tid.bid.counter1\",\"src\":\"@0\",\"dst\":\"tid.bid\",\"et\":11,\"action\":\"reset\"}\n",
      "GOT {\"et\":10,\"eid\":\"tid.bid.counter1.up\",\"value\":1,\"timestamp\":1713397282.682067,\"src\":\"tid.bid\",\"dst\":\"#clients\"}\n",
      "GOT {\"et\":10,\"eid\":\"tid.bid.counter1.up\",\"value\":2,\"timestamp\":1713397283.683362,\"src\":\"tid.bid\",\"dst\":\"#clients\"}\n",
      "Ping\n",
      "GOT {\"et\":10,\"eid\":\"tid.bid.counter1.up\",\"value\":3,\"timestamp\":1713397284.684545,\"src\":\"tid.bid\",\"dst\":\"#clients\"}\n",
      "GOT {\"et\":1,\"src\":\"tid.bid\"}\n",
      "GOT {\"et\":10,\"eid\":\"tid.bid.counter1.up\",\"value\":4,\"timestamp\":1713397285.68574,\"src\":\"tid.bid\",\"dst\":\"#clients\"}\n",
      "GOT {\"et\":10,\"eid\":\"tid.bid.counter1.up\",\"value\":5,\"timestamp\":1713397286.686962,\"src\":\"tid.bid\",\"dst\":\"#clients\"}\n",
      "GOT {\"et\":10,\"eid\":\"tid.bid.counter2.up\",\"value\":59,\"timestamp\":1713397287.448318,\"src\":\"tid.bid\",\"dst\":\"#clients\"}\n",
      "Ping\n",
      "GOT {\"et\":10,\"eid\":\"tid.bid.counter1.up\",\"value\":6,\"timestamp\":1713397287.687285,\"src\":\"tid.bid\",\"dst\":\"#clients\"}\n",
      "GOT {\"et\":1,\"src\":\"tid.bid\"}\n",
      "GOT {\"param\":777,\"device_id\":\"tid.bid.counter1\",\"src\":\"@0\",\"dst\":\"tid.bid\",\"et\":11,\"action\":\"reset\"}\n",
      "GOT {\"et\":10,\"eid\":\"tid.bid.counter1.up\",\"value\":1,\"timestamp\":1713397288.6884859,\"src\":\"tid.bid\",\"dst\":\"#clients\"}\n",
      "GOT {\"et\":10,\"eid\":\"tid.bid.counter1.up\",\"value\":2,\"timestamp\":1713397289.689667,\"src\":\"tid.bid\",\"dst\":\"#clients\"}\n",
      "Ping\n",
      "GOT {\"et\":10,\"eid\":\"tid.bid.counter1.up\",\"value\":3,\"timestamp\":1713397290.6908329,\"src\":\"tid.bid\",\"dst\":\"#clients\"}\n",
      "GOT {\"et\":1,\"src\":\"tid.bid\"}\n",
      "GOT {\"et\":10,\"eid\":\"tid.bid.counter1.up\",\"value\":4,\"timestamp\":1713397291.691094,\"src\":\"tid.bid\",\"dst\":\"#clients\"}\n",
      "GOT {\"et\":10,\"eid\":\"tid.bid.counter2.up\",\"value\":60,\"timestamp\":1713397292.449014,\"src\":\"tid.bid\",\"dst\":\"#clients\"}\n",
      "GOT b'\\xeb\\xfe\\xdd\\xa7'\n",
      "GOT {\"et\":10,\"eid\":\"tid.bid.counter1.up\",\"value\":5,\"timestamp\":1713397292.6925461,\"src\":\"tid.bid\",\"dst\":\"#clients\"}\n",
      "Ping\n",
      "GOT {\"et\":10,\"eid\":\"tid.bid.counter1.up\",\"value\":6,\"timestamp\":1713397293.693695,\"src\":\"tid.bid\",\"dst\":\"#clients\"}\n",
      "GOT {\"et\":1,\"src\":\"tid.bid\"}\n",
      "GOT {\"param\":777,\"device_id\":\"tid.bid.counter1\",\"src\":\"@0\",\"dst\":\"tid.bid\",\"et\":11,\"action\":\"reset\"}\n",
      "GOT {\"et\":10,\"eid\":\"tid.bid.counter1.up\",\"value\":1,\"timestamp\":1713397294.694874,\"src\":\"tid.bid\",\"dst\":\"#clients\"}\n"
     ]
    }
   ],
   "source": [
    "# ws client (start server - examples/fast_server.py) before running this\n",
    "# and update the ip address below\n",
    "\n",
    "import asyncio\n",
    "from examples import client\n",
    "\n",
    "\n",
    "def do_connect():\n",
    "    import network\n",
    "\n",
    "    wlan = network.WLAN(network.STA_IF)\n",
    "    wlan.active(True)\n",
    "    if not wlan.isconnected():\n",
    "        print(\"connecting to network...\")\n",
    "        wlan.connect(\"TPA-2.4\", \"TurbenThal\")\n",
    "        while not wlan.isconnected():\n",
    "            pass\n",
    "    print(\"network config:\", wlan.ifconfig())\n",
    "\n",
    "\n",
    "do_connect()\n",
    "\n",
    "\n",
    "asyncio.run(client.main(\"ws://192.168.8.138:8055/ws\"))"
   ]
  },
  {
   "cell_type": "code",
   "execution_count": 6,
   "metadata": {},
   "outputs": [
    {
     "name": "stdout",
     "output_type": "stream",
     "text": [
      "network config: ('192.168.8.167', '255.255.255.0', '192.168.8.1', '192.168.8.1')\n",
      "200\n",
      "<meta http-equiv=\"Refresh\" content=\"0; url=intro.html\" />\n",
      "\n",
      "\n"
     ]
    }
   ],
   "source": [
    "# http get request\n",
    "\n",
    "import aiohttp\n",
    "import asyncio\n",
    "\n",
    "\n",
    "def do_connect():\n",
    "    import network\n",
    "\n",
    "    wlan = network.WLAN(network.STA_IF)\n",
    "    wlan.active(True)\n",
    "    if not wlan.isconnected():\n",
    "        print(\"connecting to network...\")\n",
    "        wlan.connect(\"TPA-2.4\", \"TurbenThal\")\n",
    "        while not wlan.isconnected():\n",
    "            pass\n",
    "    print(\"network config:\", wlan.ifconfig())\n",
    "\n",
    "\n",
    "do_connect()\n",
    "\n",
    "\n",
    "async def main():\n",
    "    async with aiohttp.ClientSession() as session:\n",
    "        async with session.get(\"http://iot49.org\") as resp:\n",
    "            print(resp.status)\n",
    "            print(await resp.text())\n",
    "\n",
    "\n",
    "asyncio.run(main())"
   ]
  },
  {
   "cell_type": "code",
   "execution_count": 1,
   "metadata": {},
   "outputs": [
    {
     "name": "stdout",
     "output_type": "stream",
     "text": [
      "connecting to network...\n",
      "network config: ('192.168.8.167', '255.255.255.0', '192.168.8.1', '192.168.8.1')\n",
      "200\n",
      "{\"message\":\"Hello World\"}\n",
      "\n"
     ]
    }
   ],
   "source": [
    "# http get request to cloudflare tunnel\n",
    "# IMPORTANT: enable TLS 1.2 in cloudflare ssl/tls edge certificates for leaf49.org domain\n",
    "\n",
    "import aiohttp\n",
    "import asyncio\n",
    "\n",
    "\n",
    "def do_connect():\n",
    "    import network\n",
    "\n",
    "    wlan = network.WLAN(network.STA_IF)\n",
    "    wlan.active(True)\n",
    "    if not wlan.isconnected():\n",
    "        print(\"connecting to network...\")\n",
    "        wlan.connect(\"R\", \"jdqwn4x84iouc\")\n",
    "        while not wlan.isconnected():\n",
    "            pass\n",
    "    print(\"network config:\", wlan.ifconfig())\n",
    "\n",
    "\n",
    "do_connect()\n",
    "\n",
    "\n",
    "async def main():\n",
    "    url = \"http://leaf49.org\"\n",
    "    async with aiohttp.ClientSession() as session:\n",
    "        async with session.get(url) as resp:\n",
    "            print(resp.status)\n",
    "            print(await resp.text())\n",
    "\n",
    "\n",
    "asyncio.run(main())"
   ]
  }
 ],
 "metadata": {
  "kernelspec": {
   "display_name": "MpKernel",
   "language": "text",
   "name": "mpkernel"
  },
  "language_info": {
   "codemirror_mode": {
    "name": "python",
    "version": 3
   },
   "file_extension": ".py",
   "mimetype": "text/x-python",
   "name": "python",
   "pygments_lexer": "python3",
   "version": "3"
  }
 },
 "nbformat": 4,
 "nbformat_minor": 2
}
