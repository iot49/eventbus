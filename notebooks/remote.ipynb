{
 "cells": [
  {
   "cell_type": "markdown",
   "metadata": {},
   "source": [
    "# Events on MicroPython\n"
   ]
  },
  {
   "cell_type": "code",
   "execution_count": 18,
   "metadata": {},
   "outputs": [
    {
     "name": "stdout",
     "output_type": "stream",
     "text": [
      "Installing abc (latest) from https://micropython.org/pi/v2 to ./local/lib\n",
      "***** File abc.py already exists in ./local/lib - not overwriting.\n",
      "\n",
      "\n",
      "Installing time (latest) from https://micropython.org/pi/v2 to ./local/lib\n",
      "***** File time.py already exists in ./local/lib - not overwriting.\n",
      "\n",
      "\n",
      "Installing datetime (latest) from https://micropython.org/pi/v2 to ./local/lib\n",
      "***** File datetime.py already exists in ./local/lib - not overwriting.\n",
      "\n",
      "\n",
      "Installing types (latest) from https://micropython.org/pi/v2 to ./local/lib\n",
      "***** File types.py already exists in ./local/lib - not overwriting.\n",
      "\n",
      "\n"
     ]
    }
   ],
   "source": [
    "%mip install abc\n",
    "%mip install time\n",
    "%mip install datetime\n",
    "%mip install types"
   ]
  },
  {
   "cell_type": "code",
   "execution_count": 36,
   "metadata": {},
   "outputs": [
    {
     "name": "stdout",
     "output_type": "stream",
     "text": [
      "Testing module test_bus ...\n",
      "   test_broadcast ...\n",
      "   TODO: Test broadcast ...\n",
      "\n",
      "Testing module test_events ...\n",
      "   test_events ...\n",
      "   test_state ...\n",
      "\n",
      "\n"
     ]
    }
   ],
   "source": [
    "from test import run_all\n",
    "\n",
    "run_all()"
   ]
  },
  {
   "cell_type": "code",
   "execution_count": 43,
   "metadata": {},
   "outputs": [
    {
     "name": "stdout",
     "output_type": "stream",
     "text": [
      "\u001b[38;5;2mAdd\n",
      "  eventbus/bus/current_state.py\n",
      "\u001b[38;5;6mUpdate\n",
      "  eventbus/bus/__init__.py\n",
      "  eventbus/events/__init__.py\n",
      "  eventbus/events/state.py\n",
      "  examples/counter.py\n",
      "\u001b[0m\n",
      "\n"
     ]
    }
   ],
   "source": [
    "%rsync\n",
    "%softreset"
   ]
  },
  {
   "cell_type": "code",
   "execution_count": 46,
   "metadata": {},
   "outputs": [
    {
     "name": "stdout",
     "output_type": "stream",
     "text": [
      "PRINT 0.0037 {'model': 'State', 'timestamp': 1713289248, 'dst': '#clients', 'src': 'tree.branch', 'entity_id': 'tree.branch.counter1.up', 'value': 1}\n",
      "PRINT 0.0133 {'model': 'State', 'timestamp': 1713289248, 'dst': '#clients', 'src': 'tree.branch', 'entity_id': 'tree.branch.counter2.up', 'value': 1}\n",
      "PRINT 0.0237 {'param': 0, 'src': 'tree.branch', 'dst': 'tree.branch', 'kind': 'reset', 'entity_id': 'tree.branch.counter1.up', 'model': 'StateAction'}\n",
      "CurrentState {'value': 1, 'timestamp': 1713289248, 'src': 'tree.branch', 'en"
     ]
    },
    {
     "name": "stdout",
     "output_type": "stream",
     "text": [
      "tity_id': 'tree.branch.counter2.up', 'model': 'State'}\n",
      "PRINT 0.0397 {'value': 1, 'timestamp': 1713289248, 'src': 'tree.branch', 'entity_id': 'tree.branch.counter2.up', 'model': 'State'}\n",
      "CurrentState {'value': 0, 'timestamp': 1713289248, 'src': 'tree.branch', 'entity_id': 'tree.branch.counter1.up', 'model': 'State'}\n",
      "PRINT 0.0531 {'value': 0, 'timestamp': 1713289248, 'src': 'tree.branch', 'entity_id': 'tree.branch.counter1.up', 'model': 'State'}\n",
      "PRINT 0.0608 {'src': 'tree.branch', 'dst': '#server', 'model': 'GetState'}\n",
      "PRINT 0.1216 {'value': 1, 'timestamp': 1713289248, 'src': 'tree.branch', 'entity_id': 'tree.branch.counter1.up', 'model': 'State'}\n",
      "PRINT 0.2016 {'value': 2, 'timestamp': 1713289248, 'src': 'tree.branch', 'entity_id': 'tree.branch.counter2.up', 'model': 'State'}\n",
      "PRINT 0.2316 {'value': 2, 'timestamp': 1713289248, 'src': 'tree.branch', 'entity_id': 'tree.branch.counter1.up', 'model': 'State'}\n",
      "PRINT 0.3416 {'value': 3, 'timestamp': 1713289249, 'src': 'tree.branch', 'entity_id': 'tree.branch.counter1.up', 'model': 'State'}\n",
      "PRINT 0.3816 {'value': 3, 'timestamp': 1713289249, 'src': 'tree.branch', 'entity_id': 'tree.branch.counter2.up', 'model': 'State'}\n",
      "PRINT 0.3914 {'param': 1, 'src': 'tree.branch', 'dst': 'tree.branch', 'kind': 'reset', 'entity_id': 'tree.branch.counter1.up', 'model': 'StateAction'}\n",
      "PRINT 0.4514 {'value': 1, 'timestamp': 1713289249, 'src': 'tree.branch', 'entity_id': 'tree.branch.counter1.up', 'model': 'State'}\n",
      "PRINT 0.5616 {'value': 2, 'timestamp': 1713289249, 'src': 'tree.branch', 'entity_id': 'tree.branch.counter1.up', 'model': 'State'}\n",
      "PRINT 0.5706 {'value': 4, 'timestamp': 1713289249, 'src': 'tree.branch', 'entity_id': 'tree.branch.counter2.up', 'model': 'State'}\n",
      "PRINT 0.6716 {'value': 3, 'timestamp': 1713289249, 'src': 'tree.branch', 'entity_id': 'tree.branch.counter1.up', 'model': 'State'}\n",
      "PRINT 0.7516 {'value': 5, 'timestamp': 1713289249, 'src': 'tree.branch', 'entity_id': 'tree.branch.counter2.up', 'model': 'State'}\n",
      "PRINT 0.7614 {'param': 2, 'src': 'tree.branch', 'dst': 'tree.branch', 'kind': 'reset', 'entity_id': 'tree.branch.counter1.up', 'model': 'StateAction'}\n",
      "CurrentState {'value': 5, 'timestamp': 1713289249, 'src': 'tree.branch', 'entity_id': 'tree.branch.counter2.up', 'model': 'State'}\n",
      "PRINT 0.7775 {'value': 5, 'timestamp': 1713289249, 'src': 'tree.branch', 'entity_id': 'tree.branch.counter2.up', 'model': 'State'}\n",
      "CurrentState {'value': 0, 'timestamp': 1713289249, 'src': 'tree.branch', 'entity_id': 'tree.branch.counter1.up', 'model': 'State'}\n",
      "PRINT 0.7911 {'value': 0, 'timestamp': 1713289249, 'src': 'tree.branch', 'entity_id': 'tree.branch.counter1.up', 'model': 'State'}\n",
      "PRINT 0.7984 {'src': 'tree.branch', 'dst': '#server', 'model': 'GetState'}\n",
      "PRINT 0.8054 {'value': 1, 'timestamp': 1713289249, 'src': 'tree.branch', 'entity_id': 'tree.branch.counter1.up', 'model': 'State'}\n",
      "PRINT 0.9216 {'value': 2, 'timestamp': 1713289249, 'src': 'tree.branch', 'entity_id': 'tree.branch.counter1.up', 'model': 'State'}\n",
      "PRINT 0.9305 {'value': 6, 'timestamp': 1713289249, 'src': 'tree.branch', 'entity_id': 'tree.branch.counter2.up', 'model': 'State'}\n",
      "PRINT 1.0316 {'value': 3, 'timestamp': 1713289249, 'src': 'tree.branch', 'entity_id': 'tree.branch.counter1.up', 'model': 'State'}\n",
      "PRINT 1.1116 {'value': 7, 'timestamp': 1713289249, 'src': 'tree.branch', 'entity_id': 'tree.branch.counter2.up', 'model': 'State'}\n",
      "PRINT 1.2913 {'value': 8, 'timestamp': 1713289249, 'src': 'tree.branch', 'entity_id': 'tree.branch.counter2.up', 'model': 'State'}\n",
      "PRINT 1.4716 {'value': 9, 'timestamp': 1713289250, 'src': 'tree.branch', 'entity_id': 'tree.branch.counter2.up', 'model': 'State'}\n",
      "CurrentState {'value': 9, 'timestamp': 1713289250, 'src': 'tree.branch', 'entity_id': 'tree.branch.counter2.up', 'model': 'State'}\n",
      "PRINT 1.5176 {'value': 9, 'timestamp': 1713289250, 'src': 'tree.branch', 'entity_id': 'tree.branch.counter2.up', 'model': 'State'}\n",
      "CurrentState {'value': 3, 'timestamp': 1713289249, 'src': 'tree.branch', 'entity_id': 'tree.branch.counter1.up', 'model': 'State'}\n",
      "PRINT 1.5311 {'value': 3, 'timestamp': 1713289249, 'src': 'tree.branch', 'entity_id': 'tree.branch.counter1.up', 'model': 'State'}\n",
      "PRINT 1.5387 {'src': 'tree.branch', 'dst': '#server', 'model': 'GetState'}\n",
      "PRINT 1.6516 {'value': 10, 'timestamp': 1713289250, 'src': 'tree.branch', 'entity_id': 'tree.branch.counter2.up', 'model': 'State'}\n",
      "\n"
     ]
    }
   ],
   "source": [
    "import asyncio\n",
    "from examples import counter\n",
    "\n",
    "asyncio.run(counter.main())"
   ]
  },
  {
   "cell_type": "code",
   "execution_count": null,
   "metadata": {},
   "outputs": [],
   "source": []
  }
 ],
 "metadata": {
  "kernelspec": {
   "display_name": "MpKernel",
   "language": "text",
   "name": "mpkernel"
  },
  "language_info": {
   "codemirror_mode": {
    "name": "python",
    "version": 3
   },
   "file_extension": ".py",
   "mimetype": "text/x-python",
   "name": "python",
   "pygments_lexer": "python3",
   "version": "3"
  }
 },
 "nbformat": 4,
 "nbformat_minor": 2
}
