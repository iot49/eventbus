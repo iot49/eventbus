{
 "cells": [
  {
   "cell_type": "markdown",
   "metadata": {},
   "source": [
    "# Events on MicroPython\n"
   ]
  },
  {
   "cell_type": "code",
   "execution_count": 18,
   "metadata": {},
   "outputs": [
    {
     "name": "stdout",
     "output_type": "stream",
     "text": [
      "Installing abc (latest) from https://micropython.org/pi/v2 to ./local/lib\n",
      "***** File abc.py already exists in ./local/lib - not overwriting.\n",
      "\n",
      "\n",
      "Installing time (latest) from https://micropython.org/pi/v2 to ./local/lib\n",
      "***** File time.py already exists in ./local/lib - not overwriting.\n",
      "\n",
      "\n",
      "Installing datetime (latest) from https://micropython.org/pi/v2 to ./local/lib\n",
      "***** File datetime.py already exists in ./local/lib - not overwriting.\n",
      "\n",
      "\n",
      "Installing types (latest) from https://micropython.org/pi/v2 to ./local/lib\n",
      "***** File types.py already exists in ./local/lib - not overwriting.\n",
      "\n",
      "\n"
     ]
    }
   ],
   "source": [
    "%mip install abc\n",
    "%mip install time\n",
    "%mip install datetime\n",
    "%mip install types"
   ]
  },
  {
   "cell_type": "code",
   "execution_count": 1,
   "metadata": {},
   "outputs": [
    {
     "name": "stdout",
     "output_type": "stream",
     "text": [
      "Testing module test_bus ...\n",
      "   test_broadcast ...\n",
      "   TODO: Test broadcast ...\n",
      "\n",
      "Testing module test_events ...\n",
      "   test_events ...\n",
      "   test_state ...\n",
      "\n",
      "\n"
     ]
    }
   ],
   "source": [
    "from test import run_all\n",
    "\n",
    "run_all()"
   ]
  },
  {
   "cell_type": "code",
   "execution_count": 14,
   "metadata": {},
   "outputs": [
    {
     "name": "stdout",
     "output_type": "stream",
     "text": [
      "\u001b[38;5;6mUpdate\n",
      "  eventbus/bus/current_state.py\n",
      "  eventbus/event.py\n",
      "  examples/counter.py\n",
      "\u001b[0m\n",
      "\n"
     ]
    }
   ],
   "source": [
    "%rsync\n",
    "%softreset"
   ]
  },
  {
   "cell_type": "code",
   "execution_count": 15,
   "metadata": {},
   "outputs": [
    {
     "name": "stdout",
     "output_type": "stream",
     "text": [
      "PRINT 0.0001 {'entity_id': 'tree.branch.counter1.up', 'value': 1, 'timestamp': 1713304557, 'dst': '#clients', 'et': 10}\n",
      "PRINT 0.0077 {'entity_id': 'tree.branch.counter2.up', 'value': 1, 'timestamp': 1713304557, 'dst': '#clients', 'et': 10}\n",
      "PRINT 0.1093 {'entity_id': 'tree.branch.counter1.up', 'value': 2, 'timestamp': 1713304558, 'dst': '#clients', 'et': 10}\n",
      "PRINT 0.1893 {'entity_id': 'tree.branch.counter2.up', 'value': 2, 'timestamp': 1713304558, 'dst': '#clients', 'et': 10}\n",
      "PRINT 0.2192 {'entity_id': 'tree.branch.counter1.up', 'value': 3, 'timestamp': 1713304558, 'dst': '#clients', 'et': 10}\n",
      "PRINT 0.3292 {'entity_id': 'tree.branch.counter1.up', 'value': 4, 'timestamp': 1713304558, 'dst': '#clients', 'et': 10}\n",
      "PRINT 0.3698 {'dst': 'tree.branch', 'device_id': 'tree.branch.counter1', 'action': 'reset', 'param': 0, 'et': 11}\n",
      "PRINT 0.3783 {'entity_id': 'tree.branch.counter2.up', 'value': 3, 'timestamp': 1713304558, 'dst': '#clients', 'et': 10}\n",
      "PRINT 0.4392 {'entity_id': 'tree.branch.counter1.up', 'value': 1, 'timestamp': 1713304558, 'dst': '#clients', 'et': 10}\n",
      "PRINT 0.5492 {'entity_id': 'tree.branch.counter1.up', 'value': 2, 'timestamp': 1713304558, 'dst': '#clients', 'et': 10}\n",
      "PRINT 0.5566 {'entity_id': 'tree.branch.counter2.up', 'value': 4, 'timestamp': 1713304558, 'dst': '#clients', 'et': 10}\n",
      "PRINT 0.6593 {'entity_id': 'tree.branch.counter1.up', 'value': 3, 'timestamp': 1713304558, 'dst': '#clients', 'et': 10}\n",
      "PRINT 0.7193 {'entity_id': 'tree.branch.counter2.up', 'value': 4, 'timestamp': 1713304558, 'dst': 'tree.branch0', 'et': 10}\n",
      "PRINT 0.7260 {'entity_id': 'tree.branch.counter1.up', 'value': 3, 'timestamp': 1713304558, 'dst': 'tree.branch0', 'et': 10}\n",
      "PRINT 0.7323 {'et': 20, 'dst': '#server', 'src': 'tree.branch0'}\n",
      "PRINT 0.7387 {'dst': 'tree.branch', 'device_id': 'tree.branch.counter1', 'action': 'reset', 'param': 1, 'et': 11}\n",
      "PRINT 0.7470 {'entity_id': 'tree.branch.counter2.up', 'value': 5, 'timestamp': 1713304558, 'dst': '#clients', 'et': 10}\n",
      "PRINT 0.7692 {'entity_id': 'tree.branch.counter1.up', 'value': 1, 'timestamp': 1713304558, 'dst': '#clients', 'et': 10}\n",
      "PRINT 0.8792 {'entity_id': 'tree.branch.counter1.up', 'value': 2, 'timestamp': 1713304558, 'dst': '#clients', 'et': 10}\n",
      "PRINT 0.9292 {'entity_id': 'tree.branch.counter2.up', 'value': 6, 'timestamp': 1713304558, 'dst': '#clients', 'et': 10}\n",
      "PRINT 0.9892 {'entity_id': 'tree.branch.counter1.up', 'value': 3, 'timestamp': 1713304558, 'dst': '#clients', 'et': 10}\n",
      "PRINT 1.0998 {'dst': 'tree.branch', 'device_id': 'tree.branch.counter1', 'action': 'reset', 'param': 2, 'et': 11}\n",
      "PRINT 1.1083 {'entity_id': 'tree.branch.counter2.up', 'value': 7, 'timestamp': 1713304559, 'dst': '#clients', 'et': 10}\n",
      "PRINT 1.2891 {'entity_id': 'tree.branch.counter2.up', 'value': 8, 'timestamp': 1713304559, 'dst': '#clients', 'et': 10}\n",
      "PRINT 1.4393 {'entity_id': 'tree.branch.counter2.up', 'value': 8, 'timestamp': 1713304559, 'dst': 'tree.branch1', 'et': 10}\n",
      "PRINT 1.4460 {'entity_id': 'tree.branch.counter1.up', 'value': 3, 'timestamp': 1713304558, 'dst': 'tree.branch1', 'et': 10}\n",
      "PRINT 1.4526 {'et': 20, 'dst': '#server', 'src': 'tree.branch1'}\n",
      "PRINT 1.4693 {'entity_id': 'tree.branch.counter2.up', 'value': 9, 'timestamp': 1713304559, 'dst': '#clients', 'et': 10}\n",
      "PRINT 1.6492 {'entity_id': 'tree.branch.counter2.up', 'value': 10, 'timestamp': 1713304559, 'dst': '#clients', 'et': 10}\n",
      "PRINT 2.1590 {'entity_id': 'tree.branch.counter2.up', 'value': 10, 'timestamp': 1713304559, 'dst': 'tree.branch2', 'et': 10}\n",
      "PRINT 2.1660 {'entity_id': 'tree.branch.counter1.up', 'value': 3, 'timestamp': 1713304558, 'dst': 'tree.branch2', 'et': 10}\n",
      "PRINT 2.1724 {'et': 20, 'dst': '#server', 'src': 'tree.branch2'}\n",
      "\n"
     ]
    }
   ],
   "source": [
    "import asyncio\n",
    "from examples import counter\n",
    "\n",
    "asyncio.run(counter.main())"
   ]
  }
 ],
 "metadata": {
  "kernelspec": {
   "display_name": "MpKernel",
   "language": "text",
   "name": "mpkernel"
  },
  "language_info": {
   "codemirror_mode": {
    "name": "python",
    "version": 3
   },
   "file_extension": ".py",
   "mimetype": "text/x-python",
   "name": "python",
   "pygments_lexer": "python3",
   "version": "3"
  }
 },
 "nbformat": 4,
 "nbformat_minor": 2
}
